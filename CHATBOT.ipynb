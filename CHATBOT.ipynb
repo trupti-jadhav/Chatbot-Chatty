{
 "cells": [
  {
   "cell_type": "code",
   "execution_count": null,
   "metadata": {
    "collapsed": true
   },
   "outputs": [],
   "source": [
    "# RETRIEVAL BASED CHATBOT\n",
    "# https://medium.com/analytics-vidhya/building-a-simple-chatbot-in-python-using-nltk-7c8c8215ac6e\n",
    "# https://hub.packtpub.com/create-conversational-assistant-chatbot-using-python/\n",
    "# https://towardsdatascience.com/build-your-first-chatbot-using-python-nltk-5d07b027e727\n",
    "# https://dzone.com/articles/nlp-tutorial-using-python-nltk-simple-examples"
   ]
  },
  {
   "cell_type": "code",
   "execution_count": null,
   "metadata": {
    "collapsed": true
   },
   "outputs": [],
   "source": [
    "# The field of study that focuses on the interactions between human language and computers is called Natural Language Processing,\n",
    "# or NLP for short. It sits at the intersection of computer science, artificial intelligence, and computational linguistics\n",
    "#[Wikipedia].NLP is a way for computers to analyze, understand, and derive meaning from human language in a smart and useful way"
   ]
  },
  {
   "cell_type": "code",
   "execution_count": null,
   "metadata": {
    "collapsed": true
   },
   "outputs": [],
   "source": [
    "# NLTK has been called “a wonderful tool for teaching and working in, computational linguistics using Python,” and “an amazing \n",
    "#library to play with natural language.”"
   ]
  },
  {
   "cell_type": "code",
   "execution_count": null,
   "metadata": {
    "collapsed": true
   },
   "outputs": [],
   "source": [
    "# In order to successfully build a conversational engine, it should take care of the following things:\n",
    "\n",
    "#1. Understand who is the target audience\n",
    "#2. Understand the Natural Language of the communication. \n",
    "#3. Understand the intent or desire of the user\n",
    "#4. provide responses that can answer the user"
   ]
  },
  {
   "cell_type": "code",
   "execution_count": null,
   "metadata": {
    "collapsed": true
   },
   "outputs": [],
   "source": [
    "#NLTK has a module, nltk.chat, which simplifies building these engines by providing a generic framework.\n"
   ]
  },
  {
   "cell_type": "code",
   "execution_count": 3,
   "metadata": {
    "collapsed": true
   },
   "outputs": [],
   "source": [
    "import nltk"
   ]
  },
  {
   "cell_type": "code",
   "execution_count": 3,
   "metadata": {},
   "outputs": [
    {
     "name": "stdout",
     "output_type": "stream",
     "text": [
      "showing info https://raw.githubusercontent.com/nltk/nltk_data/gh-pages/index.xml\n"
     ]
    },
    {
     "data": {
      "text/plain": [
       "True"
      ]
     },
     "execution_count": 3,
     "metadata": {},
     "output_type": "execute_result"
    }
   ],
   "source": [
    "nltk.download()"
   ]
  },
  {
   "cell_type": "code",
   "execution_count": 4,
   "metadata": {
    "collapsed": true
   },
   "outputs": [],
   "source": [
    "from nltk.chat.util import Chat, reflections"
   ]
  },
  {
   "cell_type": "code",
   "execution_count": 43,
   "metadata": {
    "collapsed": true
   },
   "outputs": [],
   "source": [
    "pairs = [\n",
    "    [\n",
    "        r\"my name is (.*)\",\n",
    "        [\"Hello %1, How are you today ?\",]\n",
    "    ],\n",
    "     [\n",
    "        r\"what is your name ?\",\n",
    "        [\"My name is Chatty and I'm a chatbot ?\",]\n",
    "    ],\n",
    "    [\n",
    "        r\"how are you ?\",\n",
    "        [\"I'm doing good\\nHow about You ?\",]\n",
    "    ],\n",
    "    [\n",
    "        r\"sorry (.*)\",\n",
    "        [\"Its alright\",\"Its OK, never mind\",]\n",
    "    ],\n",
    "    [\n",
    "        r\"i'm (.*) doing good\",\n",
    "        [\"Nice to hear that\",\"Alright :)\",]\n",
    "    ],\n",
    "    [\n",
    "        r\"hi|hey|hello\",\n",
    "        [\"Hello\", \"Hey there\",]\n",
    "    ],\n",
    "    [\n",
    "        r\"(.*) age?\",\n",
    "        [\"I'm a computer program dude!\",]\n",
    "        \n",
    "    ],\n",
    "    [\n",
    "        r\"which(.*) (location|city) ?\",\n",
    "        ['Buffalo, New York',]\n",
    "    ],\n",
    "    [\n",
    "        r\"how is weather in (.*)?\",\n",
    "        [\"Weather in %1 is awesome like always\",\"Too cold man here in %1\"]\n",
    "    ],\n",
    "    [\n",
    "        r\"i work in (.*)?\",\n",
    "        [\"%1 is an Amazing company, I have heard about it. But they are in huge loss these days.\",]\n",
    "    ],\n",
    "[\n",
    "        r\"(.*)raining in (.*)\",\n",
    "        [\"No rain since last week here in %2\",\"Damn its raining too much here in %2\"]\n",
    "    ],\n",
    "    [\n",
    "        r\"how (.*) health(.*)\",\n",
    "        [\"I'm a computer program, so I'm always healthy \",]\n",
    "    ],\n",
    "    [\n",
    "        r\"(.*) (sports|game) ?\",\n",
    "        [\"I'm a very big fan of Football\",]\n",
    "    ],\n",
    "    [\n",
    "        r\"who (.*) sportsperson ?\",\n",
    "        [\"Messy\",\"Ronaldo\",\"Roony\"]\n",
    "],\n",
    "    [\n",
    "        r\"who (.*) (moviestar|actor)?\",\n",
    "        [\"Brad Pitt\"]\n",
    "],\n",
    "    [\n",
    "        r\"quit\",\n",
    "        [\"BBye take care. See you soon :) \",\"It was nice talking to you. See you soon :)\"]\n",
    "],\n",
    "]\n",
    "\n",
    "def chatty():\n",
    "    print(\"Chatty: My name is Chatty. If you want to exit, type Quit\")\n",
    "    chat = Chat(pairs, reflections)\n",
    "    chat.converse()"
   ]
  },
  {
   "cell_type": "code",
   "execution_count": 44,
   "metadata": {},
   "outputs": [
    {
     "name": "stdout",
     "output_type": "stream",
     "text": [
      "Chatty: My name is Chatty. If you want to exit, type Quit\n",
      ">hi\n",
      "Hello\n",
      ">how are you\n",
      "I'm doing good\n",
      "How about You ?\n",
      ">who is the weather ?\n",
      "Brad Pitt\n",
      ">how is the weather\n",
      "None\n",
      ">which city\n",
      "Buffalo, New York\n",
      ">how is the weather there\n",
      "None\n",
      ">how is the weather in buffalo\n",
      "None\n",
      ">how is weather in buffalo\n",
      "Weather in buffalo is awesome like always\n",
      ">quit\n",
      "BBye take care. See you soon :) \n"
     ]
    }
   ],
   "source": [
    "chatty()"
   ]
  },
  {
   "cell_type": "markdown",
   "metadata": {},
   "source": [
    "# Text preprocessing"
   ]
  },
  {
   "cell_type": "code",
   "execution_count": 56,
   "metadata": {
    "collapsed": true
   },
   "outputs": [],
   "source": [
    "import numpy as np\n",
    "import random, string\n",
    "import urllib.request\n",
    "from bs4 import BeautifulSoup"
   ]
  },
  {
   "cell_type": "code",
   "execution_count": 57,
   "metadata": {
    "collapsed": true
   },
   "outputs": [],
   "source": [
    "f = open('machinelearning.txt','r',errors='ignore')\n",
    "raw = f.read()\n",
    "raw = raw.lower()\n",
    "s_token = nltk.sent_tokenize(raw)\n",
    "w_token = nltk.word_tokenize(raw)"
   ]
  },
  {
   "cell_type": "code",
   "execution_count": 58,
   "metadata": {},
   "outputs": [
    {
     "data": {
      "text/plain": [
       "['\\nmachine learning\\nmachine learning (ml) is the study of algorithms and mathematical models that computer systems use to progressively improve their performance on a specific task.',\n",
       " 'machine learning algorithms build a mathematical model of sample data, known as \"training data\", in order to make predictions or decisions without being explicitly programmed to perform the task.',\n",
       " '[1][2]:2 machine learning algorithms are used in the applications of email filtering, detection of network intruders, and computer vision, where it is infeasible to develop an algorithm of specific instructions for performing the task.']"
      ]
     },
     "execution_count": 58,
     "metadata": {},
     "output_type": "execute_result"
    }
   ],
   "source": [
    "s_token[:3]"
   ]
  },
  {
   "cell_type": "code",
   "execution_count": 59,
   "metadata": {},
   "outputs": [
    {
     "data": {
      "text/plain": [
       "['machine',\n",
       " 'learning',\n",
       " 'machine',\n",
       " 'learning',\n",
       " '(',\n",
       " 'ml',\n",
       " ')',\n",
       " 'is',\n",
       " 'the',\n",
       " 'study']"
      ]
     },
     "execution_count": 59,
     "metadata": {},
     "output_type": "execute_result"
    }
   ],
   "source": [
    "\n",
    "w_token[:10]"
   ]
  },
  {
   "cell_type": "markdown",
   "metadata": {},
   "source": [
    "# Pre processing the text data"
   ]
  },
  {
   "cell_type": "code",
   "execution_count": 60,
   "metadata": {
    "collapsed": true
   },
   "outputs": [],
   "source": [
    "lemmer = nltk.stem.WordNetLemmatizer()\n",
    "#WordNet is a semantically-oriented dictionary of English included in NLTK.\n",
    "remove_punctuations_dict = dict((ord(punct), None) for punct in string.punctuation)\n",
    "\n",
    "def LemNormalize(text):\n",
    "    #print(text)\n",
    "    return LemTokens(nltk.word_tokenize(text.lower().translate(remove_punctuations_dict)))\n",
    "\n",
    "def LemTokens(tokens):\n",
    "    return [lemmer.lemmatize(token) for token in tokens]\n",
    "# This returns normalized tokens"
   ]
  },
  {
   "cell_type": "markdown",
   "metadata": {},
   "source": [
    "# GREETING RESPONSES"
   ]
  },
  {
   "cell_type": "code",
   "execution_count": 61,
   "metadata": {
    "collapsed": true
   },
   "outputs": [],
   "source": [
    "from sklearn.feature_extraction.text import TfidfVectorizer\n",
    "from sklearn.metrics.pairwise import cosine_similarity\n",
    "# This will be used to find the similarity between words entered by the user and the words in the corpus. "
   ]
  },
  {
   "cell_type": "code",
   "execution_count": 62,
   "metadata": {
    "collapsed": true
   },
   "outputs": [],
   "source": [
    "GREETING_INPUT1 = (\"hello\",\"hi\",\"greetings\", \"what's up?\",\"hey\",\"hi there\")\n",
    "GREETING_RESPONSE1 = (\"Hello!\",\"Hi!\",\"Hi, How are you?\", \"Hi, what's up?\",\"hey!\",\"Hi there\",\"Hi, I am Chatty\")\n",
    "GREETING_INPUT2 = (\"How are you?\",\"how's you\")\n",
    "GREETING_RESPONSE2 = (\"Are you asking that to me?\",\"I am a bot\",\"Super!\")\n",
    "\n",
    "def greetings(sentence):\n",
    "    for word in sentence.split():\n",
    "        #print(word)\n",
    "        if word.lower() in GREETING_INPUT1:\n",
    "            return random.choice(GREETING_RESPONSE1)\n",
    "        elif word.lower() in GREETING_INPUT2:\n",
    "            return random.choice(GREETING_RESPONSE2)\n",
    "        \n",
    "\n"
   ]
  },
  {
   "cell_type": "code",
   "execution_count": 63,
   "metadata": {
    "collapsed": true
   },
   "outputs": [],
   "source": [
    "def response(user):\n",
    "    chatty=''\n",
    "    s_token.append(user)\n",
    "    TfidfVec = TfidfVectorizer(LemNormalize, stop_words='english')\n",
    "    tfidf = TfidfVec.fit_transform(s_token)\n",
    "    #print(tfidf[-1])\n",
    "    vals = cosine_similarity(tfidf[-1], tfidf)\n",
    "    idx=vals.argsort()[0][-2]\n",
    "    flat = vals.flatten()\n",
    "    flat.sort()\n",
    "    req_tfidf = flat[-2]\n",
    "    if(req_tfidf==0):\n",
    "        chatty =chatty + \"Sorry! I don't understand you\"\n",
    "        return chatty\n",
    "    else:\n",
    "        chatty = chatty + s_token[idx]\n",
    "        return chatty\n"
   ]
  },
  {
   "cell_type": "code",
   "execution_count": 64,
   "metadata": {},
   "outputs": [
    {
     "name": "stdout",
     "output_type": "stream",
     "text": [
      "Chatty: My name is Chatty. I will answer your queries about Machine Learning. If you want to exit, type Bye\n",
      "bye\n",
      "Chatty: Bye! \n"
     ]
    }
   ],
   "source": [
    "flag=True\n",
    "print(\"Chatty: My name is Chatty. I will answer your queries about Machine Learning. If you want to exit, type Bye\")\n",
    "while(flag==True):\n",
    "    user = input()\n",
    "    user=user.lower()\n",
    "    if(user!='bye'):\n",
    "        if(user=='thanks' or user=='thank you' ):\n",
    "            flag=False\n",
    "            print(\"Chatty: You are welcome..\")\n",
    "        else:\n",
    "            if(greetings(user)!=None):\n",
    "                print(\"Chatty: \"+greetings(user))\n",
    "            else:\n",
    "                print(\"Chatty: \",end=\"\")\n",
    "                print(response(user))\n",
    "                s_token.remove(user)\n",
    "    else:\n",
    "        flag=False\n",
    "        print(\"Chatty: Bye! \")\n"
   ]
  },
  {
   "cell_type": "code",
   "execution_count": 55,
   "metadata": {},
   "outputs": [
    {
     "data": {
      "text/plain": [
       "'\\nflag = True\\nwhile(flag==True):\\n    user_response = input()\\n    user_response = user_response.lower()\\n    if(user_response!=\\'bye\\'):\\n        if(user_response==\\'thanks\\' or user_response==\\'thank you\\' ):\\n            flag=False\\n            print(\"Chatty: You are welcome..\")\\n        else:\\n            if(greetings(user_response)):\\n                chatty()\\n            else:\\n                if(greetings(user_response)==None):\\n                    print(\"Chatty: \",end=\"\")\\n                    print(response(user_response))\\n                    s_token.remove(user_response)\\n    else:\\n        flag=False\\n        print(\"Chatty: Bye! take care..\")\\n'"
      ]
     },
     "execution_count": 55,
     "metadata": {},
     "output_type": "execute_result"
    }
   ],
   "source": [
    "'''\n",
    "flag = True\n",
    "while(flag==True):\n",
    "    user_response = input()\n",
    "    user_response = user_response.lower()\n",
    "    if(user_response!='bye'):\n",
    "        if(user_response=='thanks' or user_response=='thank you' ):\n",
    "            flag=False\n",
    "            print(\"Chatty: You are welcome..\")\n",
    "        else:\n",
    "            if(greetings(user_response)):\n",
    "                chatty()\n",
    "            else:\n",
    "                if(greetings(user_response)==None):\n",
    "                    print(\"Chatty: \",end=\"\")\n",
    "                    print(response(user_response))\n",
    "                    s_token.remove(user_response)\n",
    "    else:\n",
    "        flag=False\n",
    "        print(\"Chatty: Bye! take care..\")\n",
    "'''"
   ]
  }
 ],
 "metadata": {
  "kernelspec": {
   "display_name": "Python [default]",
   "language": "python",
   "name": "python3"
  },
  "language_info": {
   "codemirror_mode": {
    "name": "ipython",
    "version": 3
   },
   "file_extension": ".py",
   "mimetype": "text/x-python",
   "name": "python",
   "nbconvert_exporter": "python",
   "pygments_lexer": "ipython3",
   "version": "3.6.6"
  }
 },
 "nbformat": 4,
 "nbformat_minor": 2
}
